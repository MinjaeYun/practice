{
  "nbformat": 4,
  "nbformat_minor": 0,
  "metadata": {
    "colab": {
      "name": "WebCollect_Note.ipynb",
      "provenance": [],
      "collapsed_sections": [],
      "authorship_tag": "ABX9TyP9tumxqbq0mwaCMbWa0xez",
      "include_colab_link": true
    },
    "kernelspec": {
      "name": "python3",
      "display_name": "Python 3"
    }
  },
  "cells": [
    {
      "cell_type": "markdown",
      "metadata": {
        "id": "view-in-github",
        "colab_type": "text"
      },
      "source": [
        "<a href=\"https://colab.research.google.com/github/MinjaeYun/practice/blob/master/WebCollect_Note.ipynb\" target=\"_parent\"><img src=\"https://colab.research.google.com/assets/colab-badge.svg\" alt=\"Open In Colab\"/></a>"
      ]
    },
    {
      "cell_type": "markdown",
      "metadata": {
        "id": "XoDW0PyYTPyJ"
      },
      "source": [
        "##**Web scraping in a nut shell** <br>\n",
        "> Minjae Yun"
      ]
    },
    {
      "cell_type": "code",
      "metadata": {
        "id": "mn0X_x0xTDht"
      },
      "source": [
        "# !pip install [package name] \n",
        "import os \n",
        "import requests \n",
        "from bs4 import BeautifulSoup\n",
        "import pandas as pd\n",
        "import re "
      ],
      "execution_count": null,
      "outputs": []
    },
    {
      "cell_type": "markdown",
      "metadata": {
        "id": "eMqELwz2VPtO"
      },
      "source": [
        "##**Goals**\n",
        "*   Obtain and read url page \n",
        "*   Clean and stack information into a dataframe \n",
        "*   Repeat the same tasks\n",
        "*   Trials & errors"
      ]
    },
    {
      "cell_type": "markdown",
      "metadata": {
        "id": "ZooNnGm0_yZr"
      },
      "source": [
        "## 1. First step: get the url page and each section"
      ]
    },
    {
      "cell_type": "code",
      "metadata": {
        "id": "-bInEi9gVnyb"
      },
      "source": [
        "url = \"http://securities.stanford.edu/filings-case.html?id=100120\"\n",
        "soup = requests.get(url) \n",
        "# or soup=requests.get(\"http://securities.stanford.edu/filings-case.html?id=100120\")\n",
        "b = BeautifulSoup(soup.text, 'lxml') \n",
        "# assign 5 sections into 5 different objects\n",
        "summary = b.findAll(\"section\", {\"id\":\"summary\"})\n",
        "company = b.findAll(\"section\", {\"id\":\"company\"})\n",
        "fic = b.findAll(\"section\", {\"id\":\"fic\"})\n",
        "ref = b.findAll(\"section\", {\"id\":\"ref\"})\n",
        "other = b.findAll(\"section\",{\"id\":\"other\"})"
      ],
      "execution_count": null,
      "outputs": []
    },
    {
      "cell_type": "code",
      "metadata": {
        "id": "hrlKe_NuV3jT"
      },
      "source": [
        "# tables are easily pulled by pandas package but this is not recommended in this web page\n",
        "tab = pd.read_html(url)\n",
        "print(tab[0])"
      ],
      "execution_count": null,
      "outputs": []
    },
    {
      "cell_type": "markdown",
      "metadata": {
        "id": "kDTPerJaWktK"
      },
      "source": [
        "1-1. Now we have 5 different sections that might need somewhat different methods to pull the data"
      ]
    },
    {
      "cell_type": "code",
      "metadata": {
        "id": "Adt-XYktWh2Y"
      },
      "source": [
        "# 1) summary: a plain text \n",
        "summary=summary[0].text"
      ],
      "execution_count": null,
      "outputs": []
    },
    {
      "cell_type": "markdown",
      "metadata": {
        "id": "aC8uH9BpZyN4"
      },
      "source": [
        "1-2. For the other four sections, we need to sort information to stack them into a dataframe <br>\n",
        "See the url page"
      ]
    },
    {
      "cell_type": "code",
      "metadata": {
        "id": "DWujfz-JZjAo"
      },
      "source": [
        "# better to individually define functions when repetition is expected\n",
        "def sortInfo(L):\n",
        "    Output=L\n",
        "    # assign empty lists for titles and actual contents\n",
        "    Output_t = []\n",
        "    Output_c = []\n",
        "    Output_t = [re.findall(\".*(?=: )\",x)[0] for x in Output] # everything before \": \"\n",
        "    Output_c = [re.findall(\"(?<=: ).*\",x)[0] for x in Output] # everything after \": \"\n",
        "    Output = pd.DataFrame(Output_c).transpose()\n",
        "    # cleaning titles to work in Stata\n",
        "    Output_t = [x.lower() for x in Output_t]  \n",
        "    Output_t = [x.replace(\" \",\"_\") for x in Output_t] \n",
        "    Output_t = [x.replace(\"#\",\"num\") for x in Output_t] \n",
        "    Output.columns=Output_t\n",
        "    return Output\n",
        "def getTab(bs4Tag): # get table from each code chunk\n",
        "    Output = []\n",
        "    tabRows = bs4Tag[0].find_all('tr')\n",
        "    for tr in tabRows: \n",
        "        td = tr.find_all('td')\n",
        "        row = [i.text for i in td]\n",
        "        Output.append(row)\n",
        "    Output = [x for x in Output if x != []] # eliminate element \n",
        "    Output = pd.DataFrame(Output)\n",
        "    Output = Output.set_index(0)\n",
        "    return Output\n",
        "def getInfo(bs4Result): # get individual info from bs4 element\n",
        "    Output = []\n",
        "    Output = [x.text for x in bs4Result] # convert the individual info into a list\n",
        "    Output = \"\\n\".join(Output) \n",
        "    Output = Output.split(\"\\n\")\n",
        "    Output = [x for x in Output if x!='']\n",
        "    Output = sortInfo(Output) # we defined sortInfo function above\n",
        "    return Output"
      ],
      "execution_count": null,
      "outputs": []
    },
    {
      "cell_type": "code",
      "metadata": {
        "id": "juTsX8TZne3t"
      },
      "source": [
        "# example of list operator\n",
        "a = [1,2,3,4]\n",
        "a = [1+x for x in a]\n",
        "print(a)"
      ],
      "execution_count": null,
      "outputs": []
    },
    {
      "cell_type": "code",
      "metadata": {
        "id": "jykWpRQ1YrMC"
      },
      "source": [
        "# 2) company: \n",
        "c_tit = company[0].findAll(\"p\",{\"class\":\"lead\"})\n",
        "c_content = company[0].findAll(\"div\",{\"class\":\"row-fluid\"})\n",
        "c = [] \n",
        "for j in range(len(c_tit)):\n",
        "    c.append(c_content[j].text)\n",
        "c = \"\\n\".join(c).split(\"\\n\")\n",
        "# \"\\n\".join(LIST) joins elements in LIST\n",
        "# STRING.split(\"\\n\") splits elements in STRING \n",
        "c = [x for x in c if x != ''] # get rid of empty information\n",
        "c = sortInfo(c) "
      ],
      "execution_count": null,
      "outputs": []
    },
    {
      "cell_type": "code",
      "metadata": {
        "id": "xZOPrnr0oi0U"
      },
      "source": [
        "print(\"\\n\".join(c).split(\"\\n\")[0])"
      ],
      "execution_count": null,
      "outputs": []
    },
    {
      "cell_type": "markdown",
      "metadata": {
        "id": "ybyllTFIYt5p"
      },
      "source": [
        "1-3. First Identified Complaint and Reference share the same structure with a little bit of more work required"
      ]
    },
    {
      "cell_type": "code",
      "metadata": {
        "id": "mPs_y89AYyFr"
      },
      "source": [
        "# 3) first identified complaint\n",
        "fic_info = fic[0].findAll(\"div\",{'class':'row-fluid'})\n",
        "fic_info = getInfo(fic_info) \n",
        "# change the column names to separte from reference\n",
        "cols = list(fic_info.columns)\n",
        "cols = [\"fic_\"+x for x in cols]\n",
        "fic_info.columns = cols\n",
        "pltf_name = fic[0].findAll(\"ol\",{'class':'styled'})\n",
        "pltf_name = pltf_name[0].text\n",
        "pltf_name = [x for x in pltf_name.split(\"\\n\") if x !='']\n",
        "fic_tab = pd.DataFrame()\n",
        "try: # error resistent command (sometimes there's no tab at all)\n",
        "    fic_tab = fic[0].find_all(\"table\") \n",
        "    fic_tab = getTab(fic_tab)\n",
        "    # other information in the links in the table\n",
        "    # click and get the information - next class\n",
        "except:\n",
        "    pass"
      ],
      "execution_count": null,
      "outputs": []
    },
    {
      "cell_type": "code",
      "metadata": {
        "id": "H5LGZCcyY0Lz"
      },
      "source": [
        "# 4) reference\n",
        "try:\n",
        "  ref_info = ref[0].findAll(\"div\",{'class':'row-fluid'})\n",
        "  ref_info = getInfo(ref_info)\n",
        "  # change the column names to separte from fic\n",
        "  cols = list(ref_info.columns)\n",
        "  cols = [\"ref_\"+x for x in cols]\n",
        "  ref_info.columns = cols\n",
        "  pltf_name = ref[0].findAll(\"ol\",{'class':'styled'})\n",
        "  pltf_name = pltf_name[0].text\n",
        "  pltf_name = [x for x in pltf_name.split(\"\\n\") if x !='']\n",
        "  # court dockets are in tables\n",
        "  ref_tab = pd.DataFrame()\n",
        "  try:\n",
        "      ref_tab = ref[0].findAll(\"table\") \n",
        "      ref_tab = getTab(ref_tab)\n",
        "      # other information in the links in the table\n",
        "      # click and get the information - next class\n",
        "  except: pass\n",
        "except Exception as errorMessage:\n",
        "    print(errorMessage)\n",
        "    pass"
      ],
      "execution_count": null,
      "outputs": []
    },
    {
      "cell_type": "code",
      "metadata": {
        "id": "RVyImZrkY4bX"
      },
      "source": [
        "# 5) other \n",
        "# find whether it has a document section first - there are lots of missing cases\n",
        "# if \"Related District Court Filings Data is not available\" not in soup.text:\n",
        "# click and get the plain text\n",
        "# if \"not available\" not in ref[0].text:        \n",
        "# next class"
      ],
      "execution_count": null,
      "outputs": []
    },
    {
      "cell_type": "code",
      "metadata": {
        "id": "8y4fiXFmY9nB"
      },
      "source": [
        "# convert collected information into a dataframe\n",
        "df = pd.DataFrame() \n",
        "df = pd.concat([df,c], axis=1, ignore_index=True) # company information\n",
        "df =pd.concat([df,fic_info],axis=1, ignore_index=True) # fic information\n",
        "df =pd.concat([df,ref_info],axis=1, ignore_index=True) # reference information\n",
        "df.columns = list(c.columns) + list(fic_info.columns) + list(ref_info.columns) # fix column names"
      ],
      "execution_count": null,
      "outputs": []
    },
    {
      "cell_type": "code",
      "metadata": {
        "id": "fiyjPPt0e-wy"
      },
      "source": [
        "df.to_csv(\"dfname.csv\", index=False, encoding=\"utf-8-sig\")"
      ],
      "execution_count": null,
      "outputs": []
    },
    {
      "cell_type": "markdown",
      "metadata": {
        "id": "Lnh1cg9DzmK_"
      },
      "source": [
        "## 2. Iteration and scraping of less structured texts\n",
        "* for/while loops work sequentially\n",
        "* Indentation is important"
      ]
    },
    {
      "cell_type": "code",
      "metadata": {
        "id": "gcQAPzesrxS8"
      },
      "source": [
        "for i in range(10):\n",
        "  print(i)"
      ],
      "execution_count": null,
      "outputs": []
    },
    {
      "cell_type": "code",
      "metadata": {
        "id": "5zqL99t9sNXH"
      },
      "source": [
        "print(list(range(10)))"
      ],
      "execution_count": null,
      "outputs": []
    },
    {
      "cell_type": "code",
      "metadata": {
        "id": "MXzeGaTJr3mw"
      },
      "source": [
        "i=0\n",
        "while i < 10:\n",
        "  print(i)\n",
        "  i+=1\n",
        "  #or equivalently i=i+1"
      ],
      "execution_count": null,
      "outputs": []
    },
    {
      "cell_type": "code",
      "metadata": {
        "id": "9cAX8AbUr-ao"
      },
      "source": [
        "# why do we use while loop? \n",
        "i=200\n",
        "while i % 2 == 0:\n",
        "  print(i)\n",
        "  i=i/2"
      ],
      "execution_count": null,
      "outputs": []
    },
    {
      "cell_type": "code",
      "metadata": {
        "id": "R4AZIap5awS7"
      },
      "source": [
        "for j in range(10): # something we get to tentatively determine in the case of for loop\n",
        "  number = 200/2**j\n",
        "  if number % 2 == 0:\n",
        "    print(number)"
      ],
      "execution_count": null,
      "outputs": []
    },
    {
      "cell_type": "markdown",
      "metadata": {
        "id": "l5JqIlk83Vdz"
      },
      "source": [
        "2-1. Get the libraries for adding irregularities"
      ]
    },
    {
      "cell_type": "code",
      "metadata": {
        "id": "Fql9cczE3EAl"
      },
      "source": [
        "import numpy as np\n",
        "import time\n",
        "print(\"let the computer pause for one second\")\n",
        "# time.sleep(1)\n",
        "print(np.random.uniform(2,3,1))\n",
        "print(np.random.uniform(2,3,1)[0])"
      ],
      "execution_count": null,
      "outputs": []
    },
    {
      "cell_type": "code",
      "metadata": {
        "id": "XYLzs7_D3UnV"
      },
      "source": [
        "time.sleep(np.random.uniform(2,3,1)[0])"
      ],
      "execution_count": null,
      "outputs": []
    },
    {
      "cell_type": "markdown",
      "metadata": {
        "id": "oLijDjor3n2m"
      },
      "source": [
        "2-2. End goal for iteration"
      ]
    },
    {
      "cell_type": "code",
      "metadata": {
        "id": "JWjsxbVF8ABK"
      },
      "source": [
        "i=0\n",
        "data = pd.DataFrame()\n",
        "while i < 5:\n",
        "  ID=100120+i # always good to have identifiers\n",
        "  url = \"http://securities.stanford.edu/filings-case.html?id=\"+str(ID) \n",
        "  soup = requests.get(url) \n",
        "  b = BeautifulSoup(soup.text, 'lxml') \n",
        "  # designate 5 sections into 5 different variables\n",
        "  summary = b.findAll(\"section\", {\"id\":\"summary\"})\n",
        "  company = b.findAll(\"section\", {\"id\":\"company\"})\n",
        "  fic = b.findAll(\"section\", {\"id\":\"fic\"})\n",
        "  ref = b.findAll(\"section\", {\"id\":\"ref\"})\n",
        "  other = b.findAll(\"section\",{\"id\":\"other\"})\n",
        "\n",
        "  # 1) summary is just plain text --> get the text\n",
        "  summary = summary[0].text\n",
        "  \n",
        "  # 2) company is quite structured \n",
        "  # c_name = company[0].findAll(\"div\",{\"class\":\"page-header\"})\n",
        "  c_tit = company[0].findAll(\"p\",{\"class\":\"lead\"})\n",
        "  c_content = company[0].findAll(\"div\",{\"class\":\"row-fluid\"})\n",
        "  c = [] # contain the title and content into one list\n",
        "  for j in range(len(c_tit)):\n",
        "      c.append(c_content[j].text)\n",
        "  c = \"\\n\".join(c).split(\"\\n\")\n",
        "  c = [x for x in c if x != '']\n",
        "  c = sortInfo(c) \n",
        "\n",
        "  # 3) first identified complaint\n",
        "  # fic_tit = fic[0].findAll(\"div\",{'class':'page-header'})\n",
        "  fic_info = fic[0].findAll(\"div\",{'class':'row-fluid'})\n",
        "  fic_info = getInfo(fic_info) \n",
        "  # change the column names to separte from reference\n",
        "  cols = list(fic_info.columns)\n",
        "  cols = [\"fic_\"+x for x in cols]\n",
        "  fic_info.columns = cols\n",
        "  pltf_name = fic[0].findAll(\"ol\",{'class':'styled'})\n",
        "  pltf_name = pltf_name[0].text\n",
        "  pltf_name = [x for x in pltf_name.split(\"\\n\") if x !='']\n",
        "      \n",
        "  # 4) reference --- reuse the codes above\n",
        "  # ref_tit = ref[0].findAll(\"div\",{'class':'page-header'})\n",
        "  ref_info = pd.DataFrame()\n",
        "  try:\n",
        "    ref_info = ref[0].findAll(\"div\",{'class':'row-fluid'})\n",
        "    ref_info = getInfo(ref_info)\n",
        "    # change the column names to separte from fic\n",
        "    cols = list(ref_info.columns)\n",
        "    cols = [\"ref_\"+x for x in cols]\n",
        "    ref_info.columns = cols\n",
        "    pltf_name = ref[0].findAll(\"ol\",{'class':'styled'})\n",
        "    pltf_name = pltf_name[0].text\n",
        "    pltf_name = [x for x in pltf_name.split(\"\\n\") if x !='']\n",
        "  except: pass\n",
        "  # 5) other\n",
        "  final = pd.DataFrame()\n",
        "  final = pd.concat([final,c], axis=1, ignore_index=True)\n",
        "  final =pd.concat([final,fic_info],axis=1, ignore_index=True)\n",
        "  final =pd.concat([final,ref_info],axis=1, ignore_index=True)\n",
        "  final.columns = list(c.columns) + list(fic_info.columns) + list(ref_info.columns)\n",
        "  final['id'] = ID # identifier\n",
        "  data = pd.concat([data,final],ignore_index=True,sort=False)\n",
        "  time.sleep(np.random.uniform(2,3,1)[0])\n",
        "  # save in every 100 observations -- error resistant\n",
        "  if i % 100==0:\n",
        "    data.to_csv(\"dfname.csv\", index=False, encoding=\"utf-8-sig\")\n",
        "  i+=1"
      ],
      "execution_count": null,
      "outputs": []
    },
    {
      "cell_type": "code",
      "metadata": {
        "id": "dbVAPQfXyPId"
      },
      "source": [
        "print(data.columns)"
      ],
      "execution_count": null,
      "outputs": []
    },
    {
      "cell_type": "markdown",
      "metadata": {
        "id": "-Lube0fMnG8E"
      },
      "source": [
        "## 3. Less structured text\n",
        "In thise section, we will learn how to parse information from plain text and how to save PDFs into the folder"
      ]
    },
    {
      "cell_type": "code",
      "metadata": {
        "id": "9QN41fbJsniI"
      },
      "source": [
        "# Collect information from a plain text see example page\n",
        "context = requests.get(\"http://securities.stanford.edu/filings-documents/1001/EEX98/001.html\")\n",
        "print(link)\n",
        "context = BeautifulSoup(context.text, 'lxml')\n",
        "context = context.text\n",
        "type(context)\n",
        "context = context.split(\"\\n\") # line split\n",
        "type(context)"
      ],
      "execution_count": null,
      "outputs": []
    },
    {
      "cell_type": "code",
      "metadata": {
        "id": "-tNHyz6WtdDg"
      },
      "source": [
        "# basic information \n",
        "basket = []\n",
        "for element in context:\n",
        "  if (\"CIVIL DOCKET FOR CASE #:\" in element or # identifier\n",
        "        \"Assigned to:\" in element or # judge information \n",
        "        \"Lead Docket\" in element or # don't know but seems to be important\n",
        "        \"Dkt# in other court\" in element): # another id\n",
        "      basket.append(element)\n",
        "print(basket)"
      ],
      "execution_count": null,
      "outputs": []
    },
    {
      "cell_type": "markdown",
      "metadata": {
        "id": "7R2jCfoEAvzJ"
      },
      "source": [
        "## Regular expression\n",
        "[Google for education](https://developers.google.com/edu/python/regular-expressions) <br>\n",
        "[Practice page](https://regexr.com/) <br>\n",
        "We can capture abstract words by using the regular expression"
      ]
    },
    {
      "cell_type": "code",
      "metadata": {
        "id": "8PW1FnOMBTbq"
      },
      "source": [
        "import re\n",
        "text = \"take each type of chunks of characters from this string: @$%&* 18424 AZDFTFH kjiwer mail@address.com another@address.com theother@gmail.com\"\n",
        "re.findall(\"\\w+\", text) # chracters except for symbols\n",
        "re.findall(\"[a-z]+\", text) # only the lower letters\n",
        "re.findall(\"[0-9]+\", text) # only the numbers"
      ],
      "execution_count": null,
      "outputs": []
    },
    {
      "cell_type": "code",
      "metadata": {
        "id": "Qa6mTWX1vSUk"
      },
      "source": [
        "# sequence of actions\n",
        "actions = [x for x in context if re.findall(\"\\d+/\\d+/\\d{2}\",x[:8])!=[]] # list \n",
        "actions = \"%%%\".join(actions) # string (is to be stored in the data frame later)\n",
        "print(actions)"
      ],
      "execution_count": null,
      "outputs": []
    },
    {
      "cell_type": "markdown",
      "metadata": {
        "id": "Xr5qEBZ30rEr"
      },
      "source": [
        "## A look into the data structure"
      ]
    },
    {
      "cell_type": "markdown",
      "metadata": {
        "id": "iJv4Z0_y0FWG"
      },
      "source": [
        "![image.png](data:image/png;base64,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)"
      ]
    },
    {
      "cell_type": "markdown",
      "metadata": {
        "id": "v2szCbNcxwx1"
      },
      "source": [
        "## Define functions for repetitive tasks\n",
        "Rule of thumb to define a function:\n",
        "* Name it with a verb\n",
        "* Put less than or equal to three arguments"
      ]
    },
    {
      "cell_type": "code",
      "metadata": {
        "id": "AvhHNcdrzx-G"
      },
      "source": [
        "i=0\n",
        "ID = 100120 + i\n",
        "filename = \"fic\"+str(ID)\n",
        "def readHtml(T):\n",
        "    Output = pd.DataFrame()\n",
        "    Ds = \"\"\n",
        "    Ls = BeautifulSoup(T, 'lxml')\n",
        "    Ls = Ls.text\n",
        "    Ls = Ls.split(\"\\n\")\n",
        "    Ls = [x for x in Ls if x != \"\"]  # cleaning process\n",
        "    Ds = [x for x in Ls if re.findall(\"\\d+/\\d+/\\d{2}\",x[:8])!=[]]\n",
        "    Ds = \"%%%\".join(Ds)\n",
        "    B = []\n",
        "    for E in Ls[:15]:\n",
        "        if (\"CIVIL DOCKET FOR CASE #:\" in E or\n",
        "             \"Assigned to:\" in E or \n",
        "             \"Lead Docket\" in E or \n",
        "             \"Dkt# in other court\" in E):\n",
        "            B.append(E)\n",
        "    B = \"  \".join(B) # cleaning process\n",
        "    B = B.split(\"  \") # cleaning process \n",
        "    B = [x for x in B if x != \"\"] # cleaning process\n",
        "    B = sortInfo(B)\n",
        "    Output = B\n",
        "    Output['dockets'] = Ds\n",
        "    return Output\n",
        "# not the most beautiful function\n",
        "def getDocket(Input,U,Filename,Order): # Input examples: fic, ref, other    \n",
        "    Output = pd.DataFrame()\n",
        "    Link = U\n",
        "    t = Input.findAll(\"tr\",{\"class\":\"table-link\"})\n",
        "    L = Link+re.findall(\"'(.*)'\", t[Order]['onclick'])[0]\n",
        "    R = requests.get(L)\n",
        "    if \".pdf\" in L: \n",
        "        with open(Filename+\"_\"+str(Order), 'wb') as f: # save file when it's pdf\n",
        "            f.write(R.content) # .read is to load file\n",
        "        Output = pd.DataFrame([\"pdf\"])\n",
        "    elif \".html\" in L: # elif for multiple conditional statements\n",
        "        docket = readHtml(R.text)\n",
        "        Output = docket\n",
        "    return Output\n",
        "def eachDoc(Input, U, Filename, Order, Tab):\n",
        "    Output = getDocket(Input, U, Filename, Order)\n",
        "    if Output.iloc[0,0] != \"pdf\":\n",
        "        Output['document'] = Tab[1].values[Order]\n",
        "        Output['filing_date'] = Tab[2].values[Order]\n",
        "        Output.columns = [x+str(Order) for x in list(Output)]\n",
        "    return Output"
      ],
      "execution_count": null,
      "outputs": []
    },
    {
      "cell_type": "code",
      "metadata": {
        "id": "vEqeyDQTz_x_"
      },
      "source": [
        "# section 3 first identified complaint\n",
        "fic_info = fic[0].findAll(\"div\",{'class':'row-fluid'})\n",
        "fic_info = getInfo(fic_info) \n",
        "# change the column names to separte from reference\n",
        "cols = list(fic_info.columns)\n",
        "cols = [\"fic_\"+x for x in cols]\n",
        "fic_info.columns = cols\n",
        "pltf_name = fic[0].findAll(\"ol\",{'class':'styled'})\n",
        "pltf_name = pltf_name[0].text\n",
        "pltf_name = [x for x in pltf_name.split(\"\\n\") if x !='']\n",
        "fic_tab = pd.DataFrame()\n",
        "link = 'http://securities.stanford.edu/' \n",
        "cols = [\"document\", \"filing_date\"]\n",
        "try: # sometimes there's no tab at all\n",
        "    fic_tab = fic[0].find_all(\"table\") \n",
        "    fic_tab = getTab(fic_tab).reset_index(drop=True) # drop the previous index\n",
        "    filename = \"fic\"+str(ID) # save file name\n",
        "    htmls = pd.DataFrame() # we will stack information in this Pandas container\n",
        "    for j in range(len(fic_tab)):\n",
        "        mid_step = eachDoc(fic[0], link, filename, j, fic_tab)\n",
        "        if mid_step.iloc[0,0] != \"pdf\": # conditional statement\n",
        "          htmls = pd.concat([htmls,mid_step],axis=1)\n",
        "    htmls.columns = [\"fic\"+x for x in list(htmls)]\n",
        "    # we might want to store it into one cell\n",
        "    cols_to_store = list(htmls)\n",
        "    cols_to_store = \"###\".join(cols_to_store)\n",
        "    htmls['fic_html'] = \"###\".join(list(htmls.iloc[0]))\n",
        "    htmls['fic_cols'] = cols_to_store    \n",
        "    fic_info = pd.concat([fic_info, htmls[['fic_html','fic_cols']]],axis=1)\n",
        "except:\n",
        "    pass\n",
        "# section 4 reference\n",
        "ref_tab = pd.DataFrame()\n",
        "try:\n",
        "    ref_tab = ref[0].findAll(\"table\") \n",
        "    ref_tab = getTab(ref_tab).reset_index(drop=True)\n",
        "    filename = \"ref\"+str(ID)\n",
        "    htmls = pd.DataFrame()\n",
        "    for j in range(len(ref_tab)):\n",
        "        mid_step = eachDoc(ref[0], link, filename, j, ref_tab)\n",
        "        if mid_step.iloc[0,0] != \"pdf\":\n",
        "            htmls = pd.concat([htmls,mid_step],axis=1)\n",
        "    htmls.columns = [\"ref\"+x for x in list(htmls)]\n",
        "    # we might want to store it into one cell\n",
        "    cols_to_store = list(htmls)\n",
        "    cols_to_store = \"###\".join(cols_to_store)\n",
        "    htmls['ref_html'] = \"###\".join(list(htmls.iloc[0]))\n",
        "    htmls['ref_cols'] = cols_to_store\n",
        "    ref_info = pd.concat([ref_info, htmls[['ref_html','ref_cols']]],axis=1)\n",
        "except: pass"
      ],
      "execution_count": null,
      "outputs": []
    },
    {
      "cell_type": "code",
      "metadata": {
        "id": "n2EOngl_0CEv"
      },
      "source": [
        "# section 5 other information\n",
        "related = pd.DataFrame()\n",
        "if \"Related District Court Filings Data is not available\" in soup.text:\n",
        "    pass\n",
        "else:\n",
        "    other_tab = other[0].findAll(\"table\")\n",
        "    other_tab = getTab(other_tab).reset_index(drop=True)\n",
        "    filename = \"related\"+str(ID)\n",
        "    htmls = pd.DataFrame()\n",
        "    for j in range(len(other_tab)):\n",
        "        mid_step = eachDoc(other[0], link, filename, j, other_tab)\n",
        "        if mid_step.iloc[0,0] != \"pdf\":\n",
        "          htmls = pd.concat([htmls,mid_step],axis=1)\n",
        "    htmls.columns = [\"related_\"+x for x in list(htmls)]\n",
        "    cols_to_store = list(htmls)\n",
        "    cols_to_store = \"###\".join(cols_to_store)\n",
        "    htmls['related_html'] = \"###\".join(list(htmls.iloc[0]))\n",
        "    htmls['related_cols'] = cols_to_store\n",
        "    ref_info = pd.concat([ref_info, htmls[['related_html','related_cols']]],axis=1)"
      ],
      "execution_count": null,
      "outputs": []
    },
    {
      "cell_type": "markdown",
      "metadata": {
        "id": "xAV4GBP7na4o"
      },
      "source": [
        "## 4. Selenium for navigating through the page\n",
        "Introduction [link](https://selenium-python.readthedocs.io/installation.html) <br>\n",
        "Download Firefox browser interface program [link](https://github.com/mozilla/geckodriver/releases)"
      ]
    },
    {
      "cell_type": "code",
      "metadata": {
        "id": "sLWAnqWFnfO9"
      },
      "source": [
        "!pip install selenium\n",
        "from selenium.webdriver import Firefox, FirefoxProfile\n",
        "# from selenium.webdriver.common.action_chains import ActionChains # put several actions into one code\n",
        "# from selenium.webdriver.support import expected_conditions as EC # conditionally run a code\n",
        "# from selenium.webdriver.support.wait import WebDriverWait # letting the program wait\n",
        "# from selenium.webdriver.common.by import By # specify what kind of syntax we use from the web page"
      ],
      "execution_count": null,
      "outputs": []
    },
    {
      "cell_type": "code",
      "metadata": {
        "id": "19oWFex-oyGf"
      },
      "source": [
        "# set up the directory so that the program can know where to pull out the browser\n",
        "root_directory = \"C:\\\\downloads\"\n",
        "driver = Firefox(executable_path=root_directory+'/geckodriver')"
      ],
      "execution_count": null,
      "outputs": []
    },
    {
      "cell_type": "code",
      "metadata": {
        "id": "EVzIdYB711GM"
      },
      "source": [
        "# navigate through page\n",
        "driver.get(\"http://securities.stanford.edu/filings.html\")\n",
        "go = driver.find_element_by_xpath('//*[@id=\"records\"]/table/tbody/tr[1]/td[1]')\n",
        "'//*[@id=\"records\"]/table/tbody/tr[1]/td[1]'\n",
        "'//*[@id=\"records\"]/table/tbody/tr[2]/td[1]'\n",
        "'//*[@id=\"records\"]/table/tbody/tr[20]/td[1]'\n",
        "i = 0\n",
        "while i < 21:\n",
        "  xpath = '//*[@id=\"records\"]/table/tbody/tr['+str(i)+']/td[1]'\n",
        "  go = driver.find_element_by_xpath(xpath)\n",
        "  go.click()\n",
        "  i+=1"
      ],
      "execution_count": null,
      "outputs": []
    },
    {
      "cell_type": "code",
      "metadata": {
        "id": "Y51smOlLo8_6"
      },
      "source": [
        "# get the content\n",
        "html = driver.page_source\n",
        "b = BeautifulSoup(html, 'lxml')"
      ],
      "execution_count": null,
      "outputs": []
    },
    {
      "cell_type": "code",
      "metadata": {
        "id": "SC6kx5Gs2w4U"
      },
      "source": [
        "# get to the next page\n",
        "# 1) mannually click the page \n",
        "go = driver.find_element_by_xpath('//*[@id=\"records\"]/div[2]/ul/li[3]/a')\n",
        "go.click()\n",
        "# 2) we can iterate the link again\n",
        "i=2\n",
        "while i < 10:\n",
        "  link = \"http://securities.stanford.edu/filings.html?page=\"+str(i)\n",
        "  driver.get(link)\n"
      ],
      "execution_count": null,
      "outputs": []
    }
  ]
}
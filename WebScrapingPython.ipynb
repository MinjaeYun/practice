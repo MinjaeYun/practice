{
 "cells": [
  {
   "cell_type": "markdown",
   "metadata": {},
   "source": [
    "# Part II. Web Scraping\n",
    "\n",
    "In this part, we aim to understand what web scraping is, how we can conduct this method, and how we can create a flat file containing information.\n",
    "\n",
    "## 1. What is web scraping?"
   ]
  },
  {
   "cell_type": "code",
   "execution_count": null,
   "metadata": {},
   "outputs": [],
   "source": [
    "# go anconda prompt on your computer\n",
    "# pip install requests \n",
    "# pip install beautifulsoup4\n",
    "import requests \n",
    "from bs4 import BeautifulSoup\n",
    "url = 'https://www.icpsr.umich.edu/files/NACJD/ORIs/STATESoris.html'"
   ]
  },
  {
   "cell_type": "markdown",
   "metadata": {},
   "source": [
    "To collect the every chunk which contains each link:"
   ]
  },
  {
   "cell_type": "code",
   "execution_count": null,
   "metadata": {},
   "outputs": [],
   "source": [
    "# \".\" is a method to call functions in a package\n",
    "# use request package to get the content in the defined url\n",
    "s = requests.get(url)\n",
    "# use BeautifulSoup package to get the content in the format of html\n",
    "soup = BeautifulSoup(s.text, 'lxml')\n",
    "# get the \"a\" attributes from html source\n",
    "elements = soup.findAll(\"a\")\n",
    "# note: python does not discriminate \"\" and ''"
   ]
  },
  {
   "cell_type": "markdown",
   "metadata": {},
   "source": [
    "To get the second link in the list:"
   ]
  },
  {
   "cell_type": "code",
   "execution_count": null,
   "metadata": {},
   "outputs": [],
   "source": [
    "# get \"href\" (Hypertext REFerence) from the each 'a' attribute\n",
    "# why the index is '1'?\n",
    "elements[1]['href']\n",
    "# concatenate strings (or merge text) in python: \"+\"\n",
    "url = 'https://www.icpsr.umich.edu/files/NACJD/ORIs/'+ elements[1]['href']\n",
    "print(url)"
   ]
  },
  {
   "cell_type": "code",
   "execution_count": null,
   "metadata": {},
   "outputs": [],
   "source": [
    "elements[2]"
   ]
  },
  {
   "cell_type": "markdown",
   "metadata": {},
   "source": [
    "## 2. Repeating the same task: forloop and whileloop\n",
    "Generate dynamic elements, assign them to key functions, and looping through repeatition\n",
    "### Forloop\n",
    "Python does the task sequentially in the loop"
   ]
  },
  {
   "cell_type": "code",
   "execution_count": null,
   "metadata": {},
   "outputs": [],
   "source": [
    "# Python index always starts from 0!\n",
    "list(range(10))\n",
    "# 'range' function includes the initial value and exclude the last value\n",
    "# 'range' function\n",
    "for i in range(10):\n",
    "    print(i)\n",
    "# we can also assign the initial value\n",
    "for i in range(6,10):\n",
    "    print(i)"
   ]
  },
  {
   "cell_type": "markdown",
   "metadata": {},
   "source": [
    "### Practice\n",
    "Use 'forloop' and one line of code to print 10 executive powers of 5"
   ]
  },
  {
   "cell_type": "code",
   "execution_count": null,
   "metadata": {},
   "outputs": [],
   "source": [
    "# in other words, pick any powers of 5 in a consectutive order\n",
    "for i in range(10):\n",
    "    val = 5**i\n",
    "    print(val)"
   ]
  },
  {
   "cell_type": "markdown",
   "metadata": {},
   "source": [
    "Let's apply forloop to collect every link in the example url"
   ]
  },
  {
   "cell_type": "code",
   "execution_count": null,
   "metadata": {},
   "outputs": [],
   "source": [
    "length = len(elements)\n",
    "links = []\n",
    "for i in range(length):\n",
    "    links.append('https://www.icpsr.umich.edu/files/NACJD/ORIs/'+elements[i]['href'])\n",
    "links[1]"
   ]
  },
  {
   "cell_type": "markdown",
   "metadata": {},
   "source": [
    "### Whileloop\n",
    "\n",
    "'whileloop' does the same task but deploy conditional statements instead of numbering system"
   ]
  },
  {
   "cell_type": "code",
   "execution_count": null,
   "metadata": {},
   "outputs": [],
   "source": [
    "i = 0\n",
    "links = []\n",
    "# Question: why don't we include the final value 'length' itself in the loop?\n",
    "# Answer:\n",
    "while i < length:\n",
    "    links.append('https://www.icpsr.umich.edu/files/NACJD/ORIs/'+elements[i]['href'])\n",
    "    i = i+1"
   ]
  },
  {
   "cell_type": "code",
   "execution_count": null,
   "metadata": {},
   "outputs": [],
   "source": [
    "# Python uses += equivalently to = i+1\n",
    "i = 0\n",
    "links = []\n",
    "while i < length:\n",
    "    links.append('https://www.icpsr.umich.edu/files/NACJD/ORIs/'+elements[i]['href'])\n",
    "    i += 1"
   ]
  },
  {
   "cell_type": "markdown",
   "metadata": {},
   "source": [
    "### Practice\n",
    "Use 'whileloop' and list 'append' function to get every content from every link"
   ]
  },
  {
   "cell_type": "code",
   "execution_count": null,
   "metadata": {},
   "outputs": [],
   "source": [
    "# first one:\n",
    "contents = []\n",
    "url = links[0]\n",
    "s = requests.get(url)\n",
    "# use BeautifulSoup package to get the content in the format of html\n",
    "soup = BeautifulSoup(s.text, 'lxml')\n",
    "# get the \"pre\" attributes from html source\n",
    "content = soup.findAll(\"pre\")\n",
    "contents.append(content)"
   ]
  },
  {
   "cell_type": "code",
   "execution_count": null,
   "metadata": {},
   "outputs": [],
   "source": [
    "# the rest\n",
    "i = 0\n",
    "contents = []\n",
    "while i < length:\n",
    "    url = links[i]\n",
    "    s = requests.get(url)\n",
    "    # use BeautifulSoup package to get the content in the format of html\n",
    "    soup = BeautifulSoup(s.text, 'lxml')\n",
    "    # get the \"pre\" attributes from html source\n",
    "    content = soup.findAll(\"pre\")\n",
    "    contents.append(content)\n",
    "    i =+ 1"
   ]
  },
  {
   "cell_type": "markdown",
   "metadata": {},
   "source": [
    "### Difference between forloop and whileloop\n",
    "Forloop provides an exhaustive access to each element within an object while whileloop allows conditional statemetns"
   ]
  },
  {
   "cell_type": "code",
   "execution_count": null,
   "metadata": {},
   "outputs": [],
   "source": [
    "my_list = [1, 2, 3]\n",
    "for element in my_list:\n",
    "    element = element + 10\n",
    "    print(element)"
   ]
  },
  {
   "cell_type": "code",
   "execution_count": null,
   "metadata": {},
   "outputs": [],
   "source": [
    "# get 10 odd numbers in the natural numbers from 6th odd number\n",
    "i = 6\n",
    "while i >= 6 and i < 6+10:\n",
    "    number = 2*i + 1\n",
    "    print(number)\n",
    "    i+=1"
   ]
  },
  {
   "cell_type": "markdown",
   "metadata": {},
   "source": [
    "## 3. Regular Expression\n",
    "To get the right information, we need to disentangle the current information into elements first and stack up the elements accordingly, which is why we need [regular expression](https://www.regular-expressions.info/)"
   ]
  },
  {
   "cell_type": "code",
   "execution_count": null,
   "metadata": {},
   "outputs": [],
   "source": [
    "# 1) bring down the content\n",
    "# html element has a function 'text' which ignores the html syntax and only returns strings\n",
    "import re\n",
    "first = contents[0]\n",
    "print(content[0].text)"
   ]
  },
  {
   "cell_type": "code",
   "execution_count": null,
   "metadata": {},
   "outputs": [],
   "source": [
    "content = content[0].text\n",
    "# split the text based on two spaces\n",
    "print(re.split(\"\\s{2}\", content))\n",
    "actual_content = re.split(\"\\s{2}\", content)\n",
    "# replace \"\\n\" with \"\"\n",
    "actual_content = [x.replace(\"\\n\",\"\") for x in actual_content if x != \"\"]\n",
    "print(\"\")\n",
    "print(actual_content)\n",
    "# only leave non-empty string in 'actual_content'\n",
    "actual_content = [x for x in actual_content if x != '']\n",
    "print(\"\")\n",
    "print(actual_content)"
   ]
  },
  {
   "cell_type": "code",
   "execution_count": null,
   "metadata": {},
   "outputs": [],
   "source": [
    "# 2) get the variable titles first and find the right locations of each information\n",
    "title = []\n",
    "i=0\n",
    "while i < 3:\n",
    "    # also replace space from the title\n",
    "    title.append(actual_content[i].replace(\" \",\"\"))\n",
    "    i += 1\n",
    "print(title)"
   ]
  },
  {
   "cell_type": "markdown",
   "metadata": {},
   "source": [
    "### Practice\n",
    "Append the first office name, ORI7, and ORI9"
   ]
  },
  {
   "cell_type": "code",
   "execution_count": null,
   "metadata": {},
   "outputs": [],
   "source": [
    "# first office\n",
    "agency=[]\n",
    "agency.append(actual_content[3])\n",
    "agency.append(actual_content[4])\n",
    "agency.append(actual_content[5])\n",
    "print(agency)"
   ]
  },
  {
   "cell_type": "code",
   "execution_count": null,
   "metadata": {},
   "outputs": [],
   "source": [
    "# we need a general rule to loop through the text\n",
    "# find what's the pattern of each line\n",
    "tickers=[]\n",
    "length = len(actual_content)\n",
    "for i in range(length):\n",
    "# find whether the string does \"not\" contain 'A'\n",
    "    if 'AL' not in actual_content[i]:\n",
    "        tickers.append(i)\n",
    "print(\"Elements in the list 'tickers' = \" + str(tickers))\n",
    "# we can see first three elements in 'tickers' indicate the title elements\n",
    "# we can see 3, 6, 9 are the names of each office\n",
    "print(\"The 3rd number in the list 'tickers' = \" +str(tickers[3]))\n",
    "print(actual_content[tickers[3]])\n",
    "print(\"The 4th number in the list 'tickers' = \" +str(tickers[4]))\n",
    "print(actual_content[tickers[4]])\n",
    "print(\"The 5th number in the list 'tickers' = \" +str(tickers[5]))\n",
    "print(actual_content[tickers[5]])\n",
    "# get the tickers from the 4th element\n",
    "tickers = tickers[3:]\n",
    "print(tickers)"
   ]
  },
  {
   "cell_type": "markdown",
   "metadata": {},
   "source": [
    "Use loop to get a list containing other two agencies"
   ]
  },
  {
   "cell_type": "code",
   "execution_count": null,
   "metadata": {},
   "outputs": [],
   "source": [
    "agencies = []\n",
    "length = len(tickers)\n",
    "for i in range(length):\n",
    "    agency=[]\n",
    "    agency.append(actual_content[tickers[i]])\n",
    "    agency.append(actual_content[tickers[i]+1])\n",
    "    agency.append(actual_content[tickers[i]+2])\n",
    "    agencies.append(agency)\n",
    "print(agencies)"
   ]
  },
  {
   "cell_type": "markdown",
   "metadata": {},
   "source": [
    "## 4. Pandas dataframe\n",
    "Get the dataframe"
   ]
  },
  {
   "cell_type": "code",
   "execution_count": null,
   "metadata": {},
   "outputs": [],
   "source": [
    "import pandas as pd\n",
    "# use the title list before to assign columns\n",
    "agencyList = pd.DataFrame(agencies, columns = title)\n",
    "print(agencyList)\n",
    "# 1) use pandas to save it to csv\n",
    "#agencyList.to_csv('filename.csv', header = True, index = False)\n",
    "# 2) can be saved without using pandas - not recommended\n",
    "#with open('filename.txt', 'w', encoding='utf-8') as f:\n",
    "#    f.write(agencyList.to_string(header = True, index = False))"
   ]
  },
  {
   "cell_type": "markdown",
   "metadata": {},
   "source": [
    "### Merge dataframes\n",
    "- We may want to work merge different datasets to have a collective source of information\n",
    "- We can use \"pd.concat\" and \"pd.merge\" equivalently\n",
    "- Please see [here](https://chrisalbon.com/python/data_wrangling/pandas_join_merge_dataframe/ ) for more details about \"pd.merge\""
   ]
  },
  {
   "cell_type": "code",
   "execution_count": null,
   "metadata": {},
   "outputs": [],
   "source": [
    "new_obs = {                    \n",
    "        'CITY/AGENCY': ['CHP LOS ANGELES COMM CTR', 'CHP PROTECTIVE SERVICES', 'CLAREMONT POLICE DEPARTMENT'],\n",
    "        'ORI7': ['CA01999', 'CA01998', 'CA01913'],\n",
    "        'ORI9': ['CA0199900', 'CA0199800', 'CA0191300'] \n",
    "}\n",
    "more_info = {\n",
    "        'ORI7': ['AL00402', 'AL00401', \"AL00400\", \"CA01999\", \"CA01998\", \"CA01913\"],\n",
    "        'ZipCode': ['36003', '36067', '36067', '90041', '95831', '91711']\n",
    "}\n",
    "df_new = pd.DataFrame(new_obs, columns = ['CITY/AGENCY','ORI7', 'ORI9'])\n",
    "df_more = pd.DataFrame(more_info, columns = [\"ORI7\", \"ZipCode\"])"
   ]
  },
  {
   "cell_type": "code",
   "execution_count": null,
   "metadata": {},
   "outputs": [],
   "source": [
    "# \"concat\" is useful for greedy merging\n",
    "agencyList = pd.concat([agencyList, df_new], ignore_index=True)\n",
    "print(agencyList)"
   ]
  },
  {
   "cell_type": "code",
   "execution_count": null,
   "metadata": {},
   "outputs": [],
   "source": [
    "# \"merge\" is useful for matching complete sets of information\n",
    "pd.merge(agencyList, df_more, on=\"ORI7\")"
   ]
  },
  {
   "cell_type": "code",
   "execution_count": null,
   "metadata": {},
   "outputs": [],
   "source": [
    "# \"concat\" can also be used to merge columnwise\n",
    "# as long as the index sets are matched - useful when merging datasets with totally different variables but the same order\n",
    "pd.concat([agencyList, df_more], axis = 1)"
   ]
  },
  {
   "cell_type": "code",
   "execution_count": null,
   "metadata": {},
   "outputs": [],
   "source": []
  }
 ],
 "metadata": {
  "kernelspec": {
   "display_name": "Python 3",
   "language": "python",
   "name": "python3"
  },
  "language_info": {
   "codemirror_mode": {
    "name": "ipython",
    "version": 3
   },
   "file_extension": ".py",
   "mimetype": "text/x-python",
   "name": "python",
   "nbconvert_exporter": "python",
   "pygments_lexer": "ipython3",
   "version": "3.7.3"
  }
 },
 "nbformat": 4,
 "nbformat_minor": 1
}

{
 "cells": [
  {
   "cell_type": "markdown",
   "metadata": {
    "id": "drGfPb8mDwO7"
   },
   "source": [
    "# **Web Scraping for Social Sciences**\n",
    "Minjae Yun\n",
    "\n",
    "[Text book](https://jakevdp.github.io/PythonDataScienceHandbook/)\n",
    "\n",
    "---\n",
    "\n",
    "\n",
    "## Final Goals\n",
    "*   Obtain and read url page \n",
    "*   Clean and stack information into a dataframe \n",
    "*   Repeat the same tasks\n",
    "*   Trials & errors\n",
    "\n",
    "\n",
    "---\n",
    "\n",
    "\n",
    "  Lecture 1 : Setting Up and Basics (1/15)\n",
    "##  Lecture 2 : Basic Web Scraping (1/23)\n",
    "  Lecture 3 : Advanced Web Scraping </br>\n",
    "\n",
    "\n",
    "---"
   ]
  },
  {
   "cell_type": "code",
   "execution_count": null,
   "metadata": {
    "id": "YE-G4aPWAH1H"
   },
   "outputs": [],
   "source": [
    "# !pip install [package name] \n",
    "!pip install selenium\n",
    "from selenium.webdriver import Firefox, FirefoxProfile\n",
    "# from selenium.webdriver.common.action_chains import ActionChains # put several actions into one code\n",
    "# from selenium.webdriver.support import expected_conditions as EC # conditionally run a code\n",
    "# from selenium.webdriver.support.wait import WebDriverWait # letting the program wait\n",
    "# from selenium.webdriver.common.by import By # specify what kind of syntax we use from the web page\n",
    "import os \n",
    "import requests \n",
    "from bs4 import BeautifulSoup\n",
    "import pandas as pd\n",
    "import re "
   ]
  },
  {
   "cell_type": "markdown",
   "metadata": {
    "id": "pYggD2BRAvUb"
   },
   "source": [
    "## 1. Selenium for navigating through the page\n",
    "* Introduction [link](https://selenium-python.readthedocs.io/installation.html)\n",
    "* Make sure downloading a machine driver first (above link)"
   ]
  },
  {
   "cell_type": "code",
   "execution_count": null,
   "metadata": {
    "id": "OaYT-7aGBFON"
   },
   "outputs": [],
   "source": [
    "# set up the directory so that the program can know where to pull out the browser\n",
    "root_directory = \"C:\\\\downloads\"\n",
    "driver = Firefox(executable_path=root_directory+'/geckodriver')"
   ]
  },
  {
   "cell_type": "code",
   "execution_count": null,
   "metadata": {
    "id": "sIRtLYneBIoq"
   },
   "outputs": [],
   "source": [
    "# navigate through page\n",
    "driver.get(\"http://securities.stanford.edu/filings.html\")\n",
    "go = driver.find_element_by_xpath('//*[@id=\"records\"]/table/tbody/tr[1]/td[1]')\n",
    "\n",
    "i = 0\n",
    "while i < 21:\n",
    "    xpath = '//*[@id=\"records\"]/table/tbody/tr['+str(i)+']/td[1]'\n",
    "    go = driver.find_element_by_xpath(xpath)\n",
    "    go.click()\n",
    "    i+=1"
   ]
  },
  {
   "cell_type": "code",
   "execution_count": null,
   "metadata": {
    "id": "9OJ3Zx8PBLJM"
   },
   "outputs": [],
   "source": [
    "# get the content\n",
    "html = driver.page_source\n",
    "b = BeautifulSoup(html, 'lxml')"
   ]
  },
  {
   "cell_type": "code",
   "execution_count": null,
   "metadata": {
    "id": "hFOjWP9rBM00"
   },
   "outputs": [],
   "source": [
    "# get to the next page\n",
    "# 1) mannually click the page \n",
    "go = driver.find_element_by_xpath('//*[@id=\"records\"]/div[2]/ul/li[3]/a')\n",
    "go.click()\n",
    "'//*[@id=\"records\"]/div[2]/ul/li[2]/a'\n",
    "'//*[@id=\"records\"]/div[2]/ul/li[4]/a'\n",
    "# 2) we can iterate the link again\n",
    "i=2\n",
    "while i < 10:\n",
    "    link = \"http://securities.stanford.edu/filings.html?page=\"+str(i)\n",
    "    driver.get(link)"
   ]
  },
  {
   "cell_type": "markdown",
   "metadata": {
    "id": "xfiOououAm2l"
   },
   "source": [
    "## 2. Requests \n",
    "* First step: get the url page and each section"
   ]
  },
  {
   "cell_type": "code",
   "execution_count": null,
   "metadata": {
    "id": "xE1rs8IyDg-8"
   },
   "outputs": [],
   "source": [
    "url = \"http://securities.stanford.edu/filings-case.html?id=100120\"\n",
    "soup = requests.get(url) \n",
    "# or soup=requests.get(\"http://securities.stanford.edu/filings-case.html?id=100120\")\n",
    "b = BeautifulSoup(soup.text, 'lxml') \n",
    "# assign 5 sections into 5 different objects\n",
    "summary = b.findAll(\"section\", {\"id\":\"summary\"})\n",
    "company = b.findAll(\"section\", {\"id\":\"company\"})\n",
    "fic = b.findAll(\"section\", {\"id\":\"fic\"})\n",
    "ref = b.findAll(\"section\", {\"id\":\"ref\"})\n",
    "other = b.findAll(\"section\",{\"id\":\"other\"})"
   ]
  },
  {
   "cell_type": "code",
   "execution_count": null,
   "metadata": {
    "id": "l1uDc_-rCBcs"
   },
   "outputs": [],
   "source": [
    "# tables are easily pulled by pandas package but this is not recommended in this web page\n",
    "tab = pd.read_html(url)\n",
    "print(tab[0])"
   ]
  },
  {
   "cell_type": "code",
   "execution_count": null,
   "metadata": {
    "id": "uPSGU40lCDgr"
   },
   "outputs": [],
   "source": [
    "# 1) summary: a plain text \n",
    "summary=summary[0].text"
   ]
  },
  {
   "cell_type": "code",
   "execution_count": null,
   "metadata": {
    "id": "xE27JEeMCGoq"
   },
   "outputs": [],
   "source": [
    "# better to individually define functions when repetition is expected\n",
    "def sortInfo(L):\n",
    "    Output=L\n",
    "    # assign empty lists for titles and actual contents\n",
    "    Output_t = []\n",
    "    Output_c = []\n",
    "    Output_t = [re.findall(\".*(?=: )\",x)[0] for x in Output] # everything before \": \"\n",
    "    Output_c = [re.findall(\"(?<=: ).*\",x)[0] for x in Output] # everything after \": \"\n",
    "    Output = pd.DataFrame(Output_c).transpose()\n",
    "    # cleaning titles to work in Stata\n",
    "    Output_t = [x.lower() for x in Output_t]  \n",
    "    Output_t = [x.replace(\" \",\"_\") for x in Output_t] \n",
    "    Output_t = [x.replace(\"#\",\"num\") for x in Output_t] \n",
    "    Output.columns=Output_t\n",
    "    return Output\n",
    "def getInfo(bs4Result): # get individual info from bs4 element\n",
    "    Output = []\n",
    "    Output = [x.text for x in bs4Result] # convert the individual info into a list\n",
    "    Output = \"\\n\".join(Output) \n",
    "    Output = Output.split(\"\\n\")\n",
    "    Output = [x for x in Output if x!='']\n",
    "    Output = sortInfo(Output) # we defined sortInfo function above\n",
    "    return Output"
   ]
  },
  {
   "cell_type": "code",
   "execution_count": null,
   "metadata": {
    "id": "MlSbksA3CJnD"
   },
   "outputs": [],
   "source": [
    "# recab list operator\n",
    "a = [1,2,3,4]\n",
    "a = [1+x for x in a]\n",
    "print(a)"
   ]
  },
  {
   "cell_type": "code",
   "execution_count": null,
   "metadata": {
    "id": "OpwGMU80CTir"
   },
   "outputs": [],
   "source": [
    "# 2) company: \n",
    "c_tit = company[0].findAll(\"p\",{\"class\":\"lead\"})\n",
    "c_content = company[0].findAll(\"div\",{\"class\":\"row-fluid\"})\n",
    "c = [] \n",
    "for j in range(len(c_tit)):\n",
    "    c.append(c_content[j].text)\n",
    "c = \"\\n\".join(c).split(\"\\n\")\n",
    "# \"\\n\".join(LIST) joins elements in LIST\n",
    "# STRING.split(\"\\n\") splits elements in STRING \n",
    "c = [x for x in c if x != ''] # get rid of empty information\n",
    "c = sortInfo(c) "
   ]
  },
  {
   "cell_type": "code",
   "execution_count": null,
   "metadata": {
    "id": "JsTTM8ueCWab"
   },
   "outputs": [],
   "source": [
    "# 3) first identified complaint\n",
    "fic_info = fic[0].findAll(\"div\",{'class':'row-fluid'})\n",
    "fic_info = getInfo(fic_info) \n",
    "# change the column names to separte from reference\n",
    "cols = list(fic_info.columns)\n",
    "cols = [\"fic_\"+x for x in cols]\n",
    "fic_info.columns = cols\n",
    "pltf_name = fic[0].findAll(\"ol\",{'class':'styled'})\n",
    "pltf_name = pltf_name[0].text\n",
    "pltf_name = [x for x in pltf_name.split(\"\\n\") if x !='']"
   ]
  },
  {
   "cell_type": "code",
   "execution_count": null,
   "metadata": {
    "id": "aZJfRA9CCX37"
   },
   "outputs": [],
   "source": [
    "# 4) reference\n",
    "ref_info = ref[0].findAll(\"div\",{'class':'row-fluid'})\n",
    "ref_info = getInfo(ref_info)\n",
    "# change the column names to separte from fic\n",
    "cols = list(ref_info.columns)\n",
    "cols = [\"ref_\"+x for x in cols]\n",
    "ref_info.columns = cols\n",
    "pltf_name = ref[0].findAll(\"ol\",{'class':'styled'})\n",
    "pltf_name = pltf_name[0].text\n",
    "pltf_name = [x for x in pltf_name.split(\"\\n\") if x !='']"
   ]
  },
  {
   "cell_type": "code",
   "execution_count": null,
   "metadata": {
    "id": "G0kQzeleCalD"
   },
   "outputs": [],
   "source": [
    "# convert collected information into a dataframe\n",
    "df = pd.DataFrame() \n",
    "df = pd.concat([df,c], axis=1, ignore_index=True) # company information\n",
    "df =pd.concat([df,fic_info],axis=1, ignore_index=True) # fic information\n",
    "df =pd.concat([df,ref_info],axis=1, ignore_index=True) # reference information\n",
    "df.columns = list(c.columns) + list(fic_info.columns) + list(ref_info.columns) # fix column names"
   ]
  },
  {
   "cell_type": "markdown",
   "metadata": {
    "id": "zowMG82ECe6U"
   },
   "source": [
    "## 3. Iteration\n",
    "* for/while loops work sequentially\n",
    "* Indentation matters"
   ]
  },
  {
   "cell_type": "code",
   "execution_count": null,
   "metadata": {
    "id": "IZWp33faCjTL"
   },
   "outputs": [],
   "source": [
    "for i in range(10):\n",
    "    print(i)"
   ]
  },
  {
   "cell_type": "code",
   "execution_count": null,
   "metadata": {
    "id": "aj3l-URrClP7"
   },
   "outputs": [],
   "source": [
    "print(list(range(10)))"
   ]
  },
  {
   "cell_type": "code",
   "execution_count": null,
   "metadata": {
    "id": "BOSyeTUoCnAs"
   },
   "outputs": [],
   "source": [
    "i=0\n",
    "while i < 10:\n",
    "    print(i)\n",
    "    i+=1\n",
    "    #or equivalently i=i+1"
   ]
  },
  {
   "cell_type": "code",
   "execution_count": null,
   "metadata": {
    "id": "itRGjavbCo6s"
   },
   "outputs": [],
   "source": [
    "# why do we use while loop? \n",
    "i=200\n",
    "while i % 2 == 0:\n",
    "    print(i)\n",
    "    i=i/2"
   ]
  },
  {
   "cell_type": "code",
   "execution_count": null,
   "metadata": {
    "id": "gOSEnh62Cqlk"
   },
   "outputs": [],
   "source": [
    "for j in range(10): # something we get to tentatively determine in the case of for loop\n",
    "    number = 200/2**j\n",
    "    if number % 2 == 0:\n",
    "        print(number)"
   ]
  }
 ],
 "metadata": {
  "colab": {
   "collapsed_sections": [],
   "name": "web scraping for ss 0122.ipynb",
   "provenance": []
  },
  "kernelspec": {
   "display_name": "Python 3",
   "language": "python",
   "name": "python3"
  },
  "language_info": {
   "codemirror_mode": {
    "name": "ipython",
    "version": 3
   },
   "file_extension": ".py",
   "mimetype": "text/x-python",
   "name": "python",
   "nbconvert_exporter": "python",
   "pygments_lexer": "ipython3",
   "version": "3.7.6"
  }
 },
 "nbformat": 4,
 "nbformat_minor": 1
}

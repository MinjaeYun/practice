{
 "cells": [
  {
   "cell_type": "markdown",
   "metadata": {},
   "source": [
    "# Python for Data Science\n",
    "\n",
    "##### Jiin Jung & Minjae Yun\n",
    "\n",
    "##### Fall 2019"
   ]
  },
  {
   "cell_type": "markdown",
   "metadata": {},
   "source": [
    "# Welcome!\n",
    "\n",
    "This workshop is a brief introduction to using Python and Jupyter Notebooks."
   ]
  },
  {
   "cell_type": "markdown",
   "metadata": {
    "collapsed": true
   },
   "source": [
    "\n",
    "# Python\n",
    "\n",
    "For most Data Science tasks there are two widely used Open Source languages: Python and R. R is favoured more by those with a mathematical background. Python is preferred by those with a programming background. Python is currenctly most popular language on Stack Overflow. See this [Most Popular Programming language on Stack Overflow Bar Chart Race](https://www.youtube.com/watch?v=cKzP61Gjf00). Choosing a language that is used by more pople allows you to communicate and collaborate with more people. \n",
    "\n",
    "Run  the following cell. You can run/execute cells with Ctrl-Enter (which will run the cell and keep the same cell selected), Shift-Enter (which will run the cell and then select the next cell), the Run button on the toolbar, the Run Cells in the Cell menu.\n"
   ]
  },
  {
   "cell_type": "code",
   "execution_count": null,
   "metadata": {},
   "outputs": [],
   "source": [
    "from IPython.display import Image\n",
    "from IPython.core.display import HTML \n",
    "Image(url= \"http://businessoverbroadway.com/wp-content/uploads/2019/01/programming_languages_used.png\")"
   ]
  },
  {
   "cell_type": "markdown",
   "metadata": {},
   "source": [
    "Genevieve Hayes examined 100 data science job advertisements, across four English-speaking countries (Australia, Canada, UK and USA), found on LinkedIn between 22 April 2019 and 5 May 2019. Run the following cell to see the [top 10 data science programing languages](https://towardsdatascience.com/which-programming-language-should-data-scientists-learn-first-aac4d3fd3038)."
   ]
  },
  {
   "cell_type": "code",
   "execution_count": null,
   "metadata": {},
   "outputs": [],
   "source": [
    "Image(url= \"https://miro.medium.com/max/2289/1*KWhvKrCjKG1JbbWPoSLO4g.png\")"
   ]
  },
  {
   "cell_type": "markdown",
   "metadata": {},
   "source": [
    "# Jupyter notebooks\n",
    "\n",
    "Jupyter notebooks are an incredible way to work and cowork. They allow you to present documentation and working code in the same file. People can read through the documentation and see the running code. They also make it easy for coworkers to share the file and edit the code collectively."
   ]
  },
  {
   "cell_type": "markdown",
   "metadata": {},
   "source": [
    "### Cells\n",
    "You may want to edit this documentation and make some notes while taking this class.\n",
    "There are two types of **_cells_**: markdown and code. This is a markdown cell. Code cells run actual python code!\n",
    "You can navigate cells by clicking on them or by using the up and down arrows. Cells will be highlighted as you navigate them.\n",
    "\n",
    "\n",
    "\n",
    "### Markdown cells for documentation\n",
    "In order to edit the documentaion. (1) select this cell, (2) click Enter, (3) edit the text, and (4) click Run. \n",
    "\n",
    "You can change heaings by the number of #.\n",
    "# Heading\n",
    "## Heading\n",
    "### Heading\n",
    "#### Heading\n",
    "\n",
    "### Tips\n",
    "\n",
    "When using cells, try to separate distinct pieces of code.\n",
    "\n",
    "At the end of each cell, there is room for some output. The output could be blank, `printf`s, images, html. Pretty much anything you can think of.\n",
    "\n",
    "**_You can find many more tips by viewing \"Help->Markdown\"_** "
   ]
  },
  {
   "cell_type": "markdown",
   "metadata": {},
   "source": [
    "### Code cells for python codes\n",
    "\n",
    "The following cell is a \"code cell\". You'll see a In [ ]: next to each cell for code, which is a counter for the cells you have run. \n"
   ]
  },
  {
   "cell_type": "code",
   "execution_count": null,
   "metadata": {},
   "outputs": [],
   "source": [
    "# This is a code cell"
   ]
  },
  {
   "cell_type": "markdown",
   "metadata": {},
   "source": [
    "You may run the code above but it won't produce any output. It is because \"#\" deactivates the code.\n",
    "\n",
    "Try running the following cell and see what it prints out:"
   ]
  },
  {
   "cell_type": "code",
   "execution_count": null,
   "metadata": {},
   "outputs": [],
   "source": [
    "print(\"Hello world!\")"
   ]
  },
  {
   "cell_type": "markdown",
   "metadata": {},
   "source": [
    "### Practice\n",
    "\n",
    "Print this: The world is round.\n"
   ]
  },
  {
   "cell_type": "code",
   "execution_count": null,
   "metadata": {},
   "outputs": [],
   "source": []
  },
  {
   "cell_type": "markdown",
   "metadata": {},
   "source": [
    "Did you get the output? Did you encounter an error? Check whether you used \" \", and/or typed 'print' in lowercase letters.\n",
    "\n",
    "\n",
    "You run cells by pressing ctrl-enter. If you press shift-enter this will run the cell and advance.\n",
    "\n",
    "You can find many more handy keyboard shortcuts by viewing \"Help->Keyboard shortcuts\""
   ]
  },
  {
   "cell_type": "markdown",
   "metadata": {},
   "source": [
    "# Expressions\n",
    "\n",
    "Run the following cells and see outputs."
   ]
  },
  {
   "cell_type": "code",
   "execution_count": null,
   "metadata": {},
   "outputs": [],
   "source": [
    "3*4"
   ]
  },
  {
   "cell_type": "code",
   "execution_count": null,
   "metadata": {},
   "outputs": [],
   "source": [
    "3**4"
   ]
  },
  {
   "cell_type": "code",
   "execution_count": null,
   "metadata": {},
   "outputs": [],
   "source": [
    "9/2"
   ]
  },
  {
   "cell_type": "code",
   "execution_count": null,
   "metadata": {},
   "outputs": [],
   "source": [
    "9%2"
   ]
  },
  {
   "cell_type": "code",
   "execution_count": null,
   "metadata": {},
   "outputs": [],
   "source": [
    "5+2"
   ]
  },
  {
   "cell_type": "code",
   "execution_count": null,
   "metadata": {},
   "outputs": [],
   "source": [
    "5-2"
   ]
  },
  {
   "cell_type": "markdown",
   "metadata": {},
   "source": [
    "Python expressions obey the same familiar rules of **_precedence_** as in algebra: \n",
    "\n",
    "- Multiplication and division occur before addition and subtraction. \n",
    "\n",
    "- Exponentiation occurs before multiplication and division.\n",
    "\n",
    "- Parentheses can be used to group together smaller expressions within a larger expression.\n",
    "\n",
    "Before you run the following cells, first calcuate your answers."
   ]
  },
  {
   "cell_type": "code",
   "execution_count": null,
   "metadata": {},
   "outputs": [],
   "source": [
    "3**4*2"
   ]
  },
  {
   "cell_type": "code",
   "execution_count": null,
   "metadata": {},
   "outputs": [],
   "source": [
    "2*3**4"
   ]
  },
  {
   "cell_type": "code",
   "execution_count": null,
   "metadata": {},
   "outputs": [],
   "source": [
    "(2*3)**4"
   ]
  },
  {
   "cell_type": "code",
   "execution_count": null,
   "metadata": {},
   "outputs": [],
   "source": [
    "3**(4+2)"
   ]
  },
  {
   "cell_type": "markdown",
   "metadata": {},
   "source": [
    "### Practice\n",
    "\n",
    "Write a code for the expression: 3(2+5)^2 "
   ]
  },
  {
   "cell_type": "code",
   "execution_count": null,
   "metadata": {},
   "outputs": [],
   "source": [
    "3*(2+5)**2"
   ]
  },
  {
   "cell_type": "markdown",
   "metadata": {},
   "source": [
    "# Names\n",
    "Names are given to values in Python using an **_assignment_** statement. In an assignment, a name is followed by =, which is followed by any expression. The value of the expression to the right of = is assigned to the name. Once a name has a value assigned to it, the value will be substituted for that name in future expressions."
   ]
  },
  {
   "cell_type": "code",
   "execution_count": null,
   "metadata": {},
   "outputs": [],
   "source": [
    "a = 3\n",
    "b = 4\n",
    "a*b"
   ]
  },
  {
   "cell_type": "code",
   "execution_count": null,
   "metadata": {},
   "outputs": [],
   "source": [
    "fahrenheit = 55\n",
    "celsius = (fahrenheit-32) *5/9\n",
    "celsius\n"
   ]
  },
  {
   "cell_type": "code",
   "execution_count": null,
   "metadata": {},
   "outputs": [],
   "source": [
    "int(celsius)"
   ]
  },
  {
   "cell_type": "code",
   "execution_count": null,
   "metadata": {},
   "outputs": [],
   "source": [
    "round(celsius, 2)"
   ]
  },
  {
   "cell_type": "code",
   "execution_count": null,
   "metadata": {},
   "outputs": [],
   "source": [
    "kelvin = celsius + 273.15\n",
    "kelvin"
   ]
  },
  {
   "cell_type": "markdown",
   "metadata": {},
   "source": [
    "### Practice\n",
    "\n",
    "Complete the code below and calcuate how much seconds will be taken for 400g tennis ball fall from a 10 meter high building.\n",
    "\n",
    "Here is the equation for a falling body:\n",
    "\n",
    "<img src=\"https://wikimedia.org/api/rest_v1/media/math/render/svg/10f3d0383ea94ebc8fa369018069467481453818\" align=\"left\">"
   ]
  },
  {
   "cell_type": "markdown",
   "metadata": {},
   "source": [
    "Note: Near the surface of the Earth, the acceleration due to gravity (g) is 9.807 m/s2 (meters per second squared)"
   ]
  },
  {
   "cell_type": "code",
   "execution_count": null,
   "metadata": {},
   "outputs": [],
   "source": [
    "d = 10\n",
    "g = 9.804\n",
    "t = (2*d/g)**0.5\n",
    "t"
   ]
  },
  {
   "cell_type": "markdown",
   "metadata": {},
   "source": [
    "# Call Expressions\n",
    "\n",
    "Call expressions invoke **_functions_**, which are named operations. The name of the function appears first, followed by expressions in parentheses."
   ]
  },
  {
   "cell_type": "code",
   "execution_count": null,
   "metadata": {},
   "outputs": [],
   "source": [
    "abs(-45)"
   ]
  },
  {
   "cell_type": "code",
   "execution_count": null,
   "metadata": {},
   "outputs": [],
   "source": [
    "round(kelvin)"
   ]
  },
  {
   "cell_type": "code",
   "execution_count": null,
   "metadata": {},
   "outputs": [],
   "source": [
    "max(fahrenheit, celsius, kelvin)"
   ]
  },
  {
   "cell_type": "markdown",
   "metadata": {},
   "source": [
    "A few functions are available by default, such as abs and round, but most functions that are built into the Python language are stored in a collection of functions called a module. An import statement is used to provide access to a module, such as math or operator."
   ]
  },
  {
   "cell_type": "code",
   "execution_count": null,
   "metadata": {},
   "outputs": [],
   "source": [
    "import math\n",
    "import operator\n",
    "math.sqrt(operator.add(4, 5))"
   ]
  },
  {
   "cell_type": "code",
   "execution_count": null,
   "metadata": {},
   "outputs": [],
   "source": [
    "math.log?"
   ]
  },
  {
   "cell_type": "code",
   "execution_count": null,
   "metadata": {},
   "outputs": [],
   "source": [
    "math.log(16, 2)"
   ]
  },
  {
   "cell_type": "markdown",
   "metadata": {},
   "source": [
    "The list of [Python's built-in functions](https://docs.python.org/3/library/functions.html) is quite long and includes many functions that are never needed in data science applications. The list of [mathematical functions in the math module](https://docs.python.org/3/library/math.html) is similarly long. This text will introduce the most important functions in context, rather than expecting the reader to memorize or understand these lists."
   ]
  },
  {
   "cell_type": "markdown",
   "metadata": {},
   "source": [
    "# Variables and array types\n",
    "\n",
    "Python is untyped by default. So variables are super easy to define.\n",
    "\n",
    "Other than variables, the two constructs that we will be using all day are lists (a.k.a. arrays) and dictionaries (a.k.a. maps). Why they don't call them arrays and maps, I don't know."
   ]
  },
  {
   "cell_type": "code",
   "execution_count": null,
   "metadata": {},
   "outputs": [],
   "source": [
    "my_variable = 2                         # A simple variable\n",
    "my_list = [1, 2, 3]                     # A simple list\n",
    "print(my_list[0])                       # Zero indexing, print is an inbuilt printf like function.\n",
    "another_list = [\"a\", \"string\", \"list\"]\n",
    "print(another_list[:])                  # Colon means \"all\"\n",
    "print(another_list[0:2])                # Index ranges are exclusive.\n",
    "character_list = 'abc'\n",
    "print(character_list[-1])               # -1 means the last entry, -2 means last but one"
   ]
  },
  {
   "cell_type": "code",
   "execution_count": null,
   "metadata": {},
   "outputs": [],
   "source": [
    "first_dict = {'bob': 32, 'steve': 94}               # Simple dictionary\n",
    "key = \"bob\"\n",
    "print(\"%s is aged %d\" % (key, first_dict[key]))     # print accepts parameters after a % sign. Note the brackets around the terms."
   ]
  },
  {
   "cell_type": "markdown",
   "metadata": {},
   "source": [
    "### Example\n",
    "\n",
    "The code below will\"\n",
    "\n",
    "- Create a Python list of keys\n",
    "- Create a map continaing those keys pointing to some values\n",
    "- Use the Python function `print(...)` to print a value or range of values using your list"
   ]
  },
  {
   "cell_type": "code",
   "execution_count": null,
   "metadata": {},
   "outputs": [],
   "source": [
    "keys = [\"a\", \"b\", \"c\"]\n",
    "d = {\"a\": 1, \"b\": 2, \"c\": 3}\n",
    "for k in keys:\n",
    "    print(d[k])"
   ]
  },
  {
   "cell_type": "markdown",
   "metadata": {},
   "source": [
    "# Functions\n",
    "Functions are defined in similar ways to other languages, but you might not be used to the syntax.\n",
    "\n",
    "Because types are interpreted at runtime, it's not very strict (you can tell it to enforce types)."
   ]
  },
  {
   "cell_type": "code",
   "execution_count": null,
   "metadata": {},
   "outputs": [],
   "source": [
    "def printData(x=[1, 2, 3]):     # An = in the paramter list means \"default to\". Note the colon\n",
    "    for x_i in x:               # Note the tab indentation in the function. This is required.\n",
    "        print(x_i)              # The \"in\" construct iterates over values in x.\n",
    "        \n",
    "printData()\n",
    "printData([11, 12])\n",
    "printData([\"a\", \"string\"])"
   ]
  },
  {
   "cell_type": "markdown",
   "metadata": {},
   "source": [
    "# Handy functions\n",
    "\n",
    "There are a wide range of handy extensions to python. You might not need to use these. But here are some..."
   ]
  },
  {
   "cell_type": "code",
   "execution_count": null,
   "metadata": {},
   "outputs": [],
   "source": [
    "str_list = [str(x) for x in range(3)]               # \"List comprehension\", i.e. create a list from a for loop\n",
    "print(str_list)                                 \n",
    "print(', '.join(str(x) for x in range(3, 0, -1)))   # Joining strings\n",
    "\n",
    "# The following will only work in python 3, the first (of many) difference between 2 and 3.\n",
    "l = lambda x: print(x**2)                           # A \"lambda\", a function. ** = power. Most times you can just define a function.\n",
    "l(3)"
   ]
  },
  {
   "cell_type": "code",
   "execution_count": null,
   "metadata": {},
   "outputs": [],
   "source": [
    "    "
   ]
  },
  {
   "cell_type": "markdown",
   "metadata": {},
   "source": [
    "# Web Scraping\n",
    "In this part, we aim to understand what the web scraping is, how we can conduct this method, and how we can create a flat file containing information.\n",
    "\n",
    "## 1) Basic web scraping\n",
    "What is web scraping?"
   ]
  },
  {
   "cell_type": "code",
   "execution_count": null,
   "metadata": {},
   "outputs": [],
   "source": [
    "import requests\n",
    "from bs4 import BeautifulSoup\n",
    "url = 'https://www.icpsr.umich.edu/files/NACJD/ORIs/STATESoris.html'"
   ]
  },
  {
   "cell_type": "markdown",
   "metadata": {},
   "source": [
    "To collect the every link in a list of agencies:"
   ]
  },
  {
   "cell_type": "code",
   "execution_count": null,
   "metadata": {},
   "outputs": [],
   "source": [
    "# use request package to get the content in the defined url\n",
    "s = requests.get(url)\n",
    "# use BeautifulSoup package to get the content in the format of html\n",
    "soup = BeautifulSoup(s.text, 'lxml')\n",
    "# get the \"li\" elements from html source\n",
    "elements = soup.findAll(\"li\")\n",
    "# note: python does not discriminate \"\" and ''"
   ]
  },
  {
   "cell_type": "markdown",
   "metadata": {},
   "source": [
    "To get the second link in the list:"
   ]
  },
  {
   "cell_type": "code",
   "execution_count": null,
   "metadata": {},
   "outputs": [],
   "source": [
    "# get \"href\" (Hypertext REFerence) 'attribute' from the element\n",
    "elements[1].a['href']\n",
    "# concatenate strings (or merge text) in python: \"+\"\n",
    "url = 'https://www.icpsr.umich.edu/files/NACJD/ORIs/'+ elements[1].a['href']\n",
    "print(url)"
   ]
  },
  {
   "cell_type": "markdown",
   "metadata": {},
   "source": [
    "## 2) Repeating the same task: forloop and whileloop\n",
    "Generate dynamic elemnts, assign them to key functions, and looping through repeatition"
   ]
  },
  {
   "cell_type": "markdown",
   "metadata": {},
   "source": [
    "### Forloop\n",
    "Python does the task sequentially in the loop"
   ]
  },
  {
   "cell_type": "code",
   "execution_count": null,
   "metadata": {},
   "outputs": [],
   "source": [
    "# Python index always starts from 0!\n",
    "list(range(10))\n",
    "# 'range' function includes the initial value and exclude the last value\n",
    "# 'range' function\n",
    "for i in range(10):\n",
    "    print(i)\n",
    "# we can also assign the initial value\n",
    "for i in range(6,10):\n",
    "    print(i)"
   ]
  },
  {
   "cell_type": "markdown",
   "metadata": {},
   "source": [
    "### Practice\n",
    "Use 'forloop' and one line of code to print 10 series of numbers of the exponential of 5"
   ]
  },
  {
   "cell_type": "code",
   "execution_count": null,
   "metadata": {},
   "outputs": [],
   "source": [
    "for i in range(10):\n",
    "    val = #fill out this line#\n",
    "    print(val)"
   ]
  },
  {
   "cell_type": "markdown",
   "metadata": {},
   "source": [
    "Let's apply forloop to collect every link in the example url"
   ]
  },
  {
   "cell_type": "code",
   "execution_count": null,
   "metadata": {},
   "outputs": [],
   "source": [
    "length = len(elements)\n",
    "links = []\n",
    "for i in range(length):\n",
    "    links.append('https://www.icpsr.umich.edu/files/NACJD/ORIs/'+elements[i].a['href'])\n",
    "links[1]"
   ]
  },
  {
   "cell_type": "markdown",
   "metadata": {},
   "source": [
    "### Whileloop\n",
    "'whileloop' does the same task but deploy conditional statements instead of numbering system"
   ]
  },
  {
   "cell_type": "code",
   "execution_count": null,
   "metadata": {},
   "outputs": [],
   "source": [
    "i = 0\n",
    "links = []\n",
    "# Question: why doesn't the inequality need to include the equal sign?\n",
    "# Answer:\n",
    "while i < length:\n",
    "    links.append('https://www.icpsr.umich.edu/files/NACJD/ORIs/'+elements[i].a['href'])\n",
    "    i = i+1\n",
    "i = 0\n",
    "links = []\n",
    "while i < length:\n",
    "    links.append('https://www.icpsr.umich.edu/files/NACJD/ORIs/'+elements[i].a['href'])\n",
    "    # Python uses += equivalently to = i+1\n",
    "    i += 1"
   ]
  },
  {
   "cell_type": "markdown",
   "metadata": {},
   "source": [
    "### Practice\n",
    "Use 'whileloop' and list 'append' function to get every content from every link"
   ]
  },
  {
   "cell_type": "code",
   "execution_count": null,
   "metadata": {},
   "outputs": [],
   "source": [
    "# First one:\n",
    "url = links[0]\n",
    "s = requests.get(url)\n",
    "# use BeautifulSoup package to get the content in the format of html\n",
    "soup = BeautifulSoup(s.text, 'lxml')\n",
    "# get the \"li\" elements from html source\n",
    "contents = soup.findAll(\"pre\")"
   ]
  },
  {
   "cell_type": "markdown",
   "metadata": {},
   "source": [
    "### Example\n",
    "Get the list of law enfocement agencies (note for myself: should I flip the order with above lecture? or delete this?) or continue pass break function? or try except function?"
   ]
  },
  {
   "cell_type": "code",
   "execution_count": null,
   "metadata": {},
   "outputs": [],
   "source": [
    "url = 'https://en.wikipedia.org/wiki/List_of_United_States_counties_and_county_equivalents'\n",
    "url = 'https://en.wikipedia.org/wiki/List_of_United_States_state_and_local_law_enforcement_agencies'"
   ]
  },
  {
   "cell_type": "markdown",
   "metadata": {},
   "source": [
    "## 3) Regular Expression\n",
    "Convert information to a structured format"
   ]
  },
  {
   "cell_type": "code",
   "execution_count": null,
   "metadata": {},
   "outputs": [],
   "source": [
    "# html element has a function 'text' which ignores the html syntax and only returns strings\n",
    "import re\n",
    "print(contents[0].text)\n",
    "#length=len(contents[0].text)\n",
    "#\"AUTAUGA COUNTY SHERIFF'S OFFICE\" in contents[0].text\n",
    "content = contents[0].text\n",
    "#print(re.findall('.*(?=\\w+)', content))\n",
    "print(re.split(\"\\s+\", content))\n",
    "actual_content = re.split(\"\\s+\", content)\n",
    "actual_content = [x for x in actual_content if x != '']\n",
    "title = []\n",
    "for i in range(3):\n",
    "    title.append(actual_content)\n",
    "length=len(actual_content)\n",
    "tickers=[]\n",
    "for i in range(length):\n",
    "    if 'AL' in actual_content[i]:\n",
    "        tickers.append(i)\n",
    "print(tickers)"
   ]
  },
  {
   "cell_type": "markdown",
   "metadata": {},
   "source": [
    "### Practice\n",
    "Use 'join' function we learned previously to get each office names"
   ]
  },
  {
   "cell_type": "code",
   "execution_count": null,
   "metadata": {},
   "outputs": [],
   "source": [
    "# This is the answer - should delete these before handing out\n",
    "first = ' '.join(actual_content[3:tickers[0]])\n",
    "second = ' '.join(actual_content[tickers[1]+1:tickers[2]])\n",
    "third = ' '.join(actual_content[tickers[3]+1:tickers[4]])\n",
    "eachone = [first, second, third]"
   ]
  },
  {
   "cell_type": "markdown",
   "metadata": {},
   "source": [
    "### Practice\n",
    "Append the first office name, ORI7, and ORI9"
   ]
  },
  {
   "cell_type": "code",
   "execution_count": null,
   "metadata": {},
   "outputs": [],
   "source": [
    "# Below is the answer\n",
    "agency=[]\n",
    "agency.append(eachone[0])\n",
    "agency.append(actual_content[tickers[0]])\n",
    "agency.append(actual_content[tickers[0]+1])\n",
    "print(agency)"
   ]
  },
  {
   "cell_type": "markdown",
   "metadata": {},
   "source": [
    "Use loop to get a list containing other two agencies"
   ]
  },
  {
   "cell_type": "code",
   "execution_count": null,
   "metadata": {},
   "outputs": [],
   "source": [
    "# Below is the answer\n",
    "agencies = []\n",
    "for i in range(1,3):\n",
    "    one=[]\n",
    "    one.append(eachone[i])\n",
    "    one.append(actual_content[tickers[2*i-1+1]])\n",
    "    one.append(actual_content[tickers[2*i-1+1]+1])\n",
    "    agencies.append(one)\n",
    "print(agencies)    "
   ]
  },
  {
   "cell_type": "markdown",
   "metadata": {},
   "source": [
    "## 4) Pandas dataframe\n",
    "Get the dataframe"
   ]
  },
  {
   "cell_type": "code",
   "execution_count": null,
   "metadata": {},
   "outputs": [],
   "source": [
    "agencies.append(agency)\n",
    "import pandas as pd\n",
    "agencyList = pd.DataFrame(agencies)\n",
    "print(agencyList)\n",
    "agencyList.to_csv('filename.csv', header = True, index = False)\n",
    "# or can be saved as a string \n",
    "with open('filename.txt', 'w', encoding='utf-8') as f:\n",
    "    f.write(agencyList.to_string(header = True, index = False))"
   ]
  },
  {
   "cell_type": "code",
   "execution_count": null,
   "metadata": {},
   "outputs": [],
   "source": []
  }
 ],
 "metadata": {
  "kernelspec": {
   "display_name": "Python 3",
   "language": "python",
   "name": "python3"
  },
  "language_info": {
   "codemirror_mode": {
    "name": "ipython",
    "version": 3
   },
   "file_extension": ".py",
   "mimetype": "text/x-python",
   "name": "python",
   "nbconvert_exporter": "python",
   "pygments_lexer": "ipython3",
   "version": "3.7.3"
  }
 },
 "nbformat": 4,
 "nbformat_minor": 1
}
